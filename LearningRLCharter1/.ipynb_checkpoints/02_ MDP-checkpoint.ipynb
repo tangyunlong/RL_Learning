{
 "cells": [
  {
   "cell_type": "markdown",
   "id": "7e7399b5",
   "metadata": {},
   "source": [
    "![RL](./pic/RL.png)\n",
    "# RL \n",
    "### 一般有监督学习和强化学习的范式之间的区别为：\n",
    "   +  一般的有监督学习关注寻找一个模型，使其在给定数据分布下得到的损失函数的期望最小；\n",
    "   ![0ML](./pic/0ML.png)\n",
    "   + 强化学习关注寻找一个智能体策略，使其在与动态环境交互的过程中产生最优的数据分布，即最大化该分布下一个给定奖励函数的期望。\n",
    "   ![0RL](./pic/0RL.png)"
   ]
  },
  {
   "cell_type": "markdown",
   "id": "e2de9b30",
   "metadata": {},
   "source": [
    "### 与MAB问题不同的是MDP过程是有”有状态“强化学习，包括状态和状态转移过程，\n",
    " + MAB：（A，R）\n",
    " + MDP：（A，S，P，R）\n",
    "\n",
    "    + 首先：随机过程-概率论中的”动力学“\n",
    "            研究对象随时间演变\n",
    "            下一时刻状态，由前面所有的时刻决定\n",
    "            \n",
    "    + 第二：Markov process\n",
    "    下一时刻状态，由上一时刻时刻决定\n",
    "    链式递归传递状态信息可以使得计算简化\n",
    "    \n",
    "    + 第三：根据马尔可夫转移矩阵，生成某一状态的序列（采样）\n",
    "    \n",
    "    + 第四：MRP（A，S，P，R， γ）\n",
    "\n",
    "    + 第五：回报与奖励\n",
    "    回报是奖励在时间尺度上的积累\n",
    "    G = Rt + γRt-1 + γRt-2 + ... + γ^kR1 \n"
   ]
  },
  {
   "cell_type": "code",
   "execution_count": 1,
   "id": "16024e22",
   "metadata": {},
   "outputs": [],
   "source": [
    "import numpy as np\n",
    "np.random.seed(0)\n",
    "P = [\n",
    "    [0.9, 0.1, 0.0, 0.0, 0.0, 0.0],\n",
    "    [0.5, 0.0, 0.5, 0.0, 0.0, 0.0],\n",
    "    [0.0, 0.0, 0.0, 0.6, 0.0, 0.4],\n",
    "    [0.0, 0.0, 0.0, 0.0, 0.3, 0.7],\n",
    "    [0.0, 0.2, 0.3, 0.5, 0.0, 0.0],\n",
    "    [0.0, 0.0, 0.0, 0.0, 0.0, 1.0],\n",
    "]\n",
    "P = np.array(P)\n",
    "rewards = [-1, -2, -2, 10, 1, 0]#状态奖励\n",
    "gamma = 0.5  # 定义折扣因子\n",
    "\n",
    "#计算回报\n",
    "def compute_return(start_index, chain, gamma):\n",
    "    G = 0\n",
    "    for i in reversed(range(start_index, len(chain))):\n",
    "        G = gamma * G + rewards[chain[i] -1]\n",
    "    return G"
   ]
  },
  {
   "cell_type": "code",
   "execution_count": 2,
   "id": "82e620e0",
   "metadata": {},
   "outputs": [
    {
     "name": "stdout",
     "output_type": "stream",
     "text": [
      "根据本序列计算得到回报为：-2.5。\n"
     ]
    }
   ],
   "source": [
    "#test compute_return\n",
    "chain = [1, 2, 3, 6]\n",
    "start_index = 0\n",
    "G = compute_return(start_index, chain, gamma)\n",
    "print(\"根据本序列计算得到回报为：%s。\" % G)"
   ]
  },
  {
   "cell_type": "markdown",
   "id": "8126134b",
   "metadata": {},
   "source": [
    "\n",
    "   +第六：价值函数\n",
    "    每个状态会有期望的回报（从当前状态一直积累到未来的某个时刻）--状态价值（value）\n",
    "    所有的状态价值--价值函数V（s）\n",
    "    V(s) = r(s) + γΣp(s`|s)V(s`)\n",
    "    V = R + γPV （矩阵形式）\n",
    "    ：：可以得出的是递归定义的贝尔曼方程。\n",
    "    价值函数的解析解为\n",
    "    V = （I - γP）^-1R\n",
    "\n",
    "   +第七：求解状态价值\n",
    "    使用解析解求解其复杂度为O（n^3）\n",
    "    故使用\n",
    "        动态规划（dynamic programming）\n",
    "        蒙特卡洛 (Monte-Carlo method)\n",
    "        时序差分 (temporal difference)    \n"
   ]
  },
  {
   "cell_type": "code",
   "execution_count": 3,
   "id": "73e05f91",
   "metadata": {},
   "outputs": [],
   "source": [
    "rewards = [-1, -2, -2, 10, 1, 0]#状态奖励\n",
    "def compute(P, rewards, gamma, states_num):\n",
    "    '''计算状态价值，states_num是MRP的状态数量'''\n",
    "    rewards = np.array(rewards).reshape((-1, 1))#向量化\n",
    "    value  = np.dot(np.linalg.inv(np.eye(states_num, states_num) - \\\n",
    "                                  gamma * P) ,rewards)\n",
    "    return value"
   ]
  },
  {
   "cell_type": "code",
   "execution_count": 4,
   "id": "fc832b69",
   "metadata": {},
   "outputs": [
    {
     "name": "stdout",
     "output_type": "stream",
     "text": [
      "MRP中每个状态价值分别为\n",
      " [[-2.01950168]\n",
      " [-2.21451846]\n",
      " [ 1.16142785]\n",
      " [10.53809283]\n",
      " [ 3.58728554]\n",
      " [ 0.        ]]\n"
     ]
    }
   ],
   "source": [
    "#test compute value\n",
    "V = compute(P, rewards, gamma, 6)\n",
    "print(\"MRP中每个状态价值分别为\\n\", V)"
   ]
  },
  {
   "cell_type": "markdown",
   "id": "8ce59633",
   "metadata": {},
   "source": [
    "   + 第八：MDP（S，A，P，r, γ）\n",
    "    使用外界刺激来执行MRP。\n",
    "     MDP 与 MRP：\n",
    "     主要区别为 MDP 中的状态转移函数和奖励函数都比MRP 多了动作a作为自变量。\n",
    "     在MDP中：我们不再使用类似MRP定义中的状态转移矩阵方式，\n",
    "             而是直接表示成了状态转移函数。\n",
    "             - 因为此时状态转移与动作也有关，变成了一个三维数组。\n",
    "             - 如果状态集合不是有限的，就无法用数组表示，\n",
    "                 但仍然可以用状态转移函数表示。\n",
    "    eg：一艘小船在大海中随着水流自由飘荡的过程就是一个马尔可夫奖励过程\n",
    "        如果有个水手在控制着这条船往哪个方向前进，\n",
    "        就可以主动选择前往目的地获得比较大的奖励。\n",
    "        \n",
    "   + 第九：策略π\n",
    "    确定性策略（deterministic policy）\n",
    "        每个状态时只输出一个确定性的动作，即只有该动作的概率为1，其他动作的概率为0。\n",
    "    随机性策略（stochastic policy）  \n",
    "        它在每个状态时输出的是关于动作的概率分布，然后根据该分布进行采样就可以得到一个动作。。\n",
    "        \n",
    "   + 第十：价值函数 -> 状态价值函数（state-value function）\n",
    "    定义为从状态出发遵循策略 π 能获得的期望回报。\n",
    "    \n",
    "   + 第十一：动作价值函数\n",
    "        由于动作的存在，我们额外定义一个动作价值函数（action-value function）\n",
    "        Qπ（s，a）\n",
    "        表示在 MDP 遵循策略π时，对当前状态s执行动作a得到的期望回报：\n",
    "        \n",
    "        :::动作价值函数和状态价值函数的联系。\n",
    "          Vπ(s) = Σ π(a|s)Qπ（s,a)\n",
    "          Qπ（s,a）= r(s,a) + γΣP(s`|s,a)Vπ(s`)\n",
    "          \n",
    "   + 第十二：通过价值函数和动作价值函数—>贝尔曼方程\n",
    "        V 和 Q函数互带 形成当前时刻与下一时刻的迭代式就是贝尔曼方程。\n",
    "        \n"
   ]
  },
  {
   "cell_type": "code",
   "execution_count": 5,
   "id": "177a600c",
   "metadata": {},
   "outputs": [],
   "source": [
    "'''\n",
    "#第一个策略是一个完全随机策略\n",
    "#智能体会以 0.5 和 0.5 的概率选取动作“保持”和“前往”。\n",
    "'''\n",
    "S = [\"s1\", \"s2\", \"s3\", \"s4\", \"s5\"]  # 状态集合\n",
    "A = [\"保持s1\", \"前往s1\", \"前往s2\", \"前往s3\", \"前往s4\", \"前往s5\", \"概率前往\"]  # 动作集合\n",
    "# 状态转移函数\n",
    "P = {\n",
    "    \"s1-保持s1-s1\": 1.0,\n",
    "    \"s1-前往s2-s2\": 1.0,\n",
    "    \"s2-前往s1-s1\": 1.0,\n",
    "    \"s2-前往s3-s3\": 1.0,\n",
    "    \"s3-前往s4-s4\": 1.0,\n",
    "    \"s3-前往s5-s5\": 1.0,\n",
    "    \"s4-前往s5-s5\": 1.0,\n",
    "    \"s4-概率前往-s2\": 0.2,\n",
    "    \"s4-概率前往-s3\": 0.4,\n",
    "    \"s4-概率前往-s4\": 0.4,\n",
    "}\n",
    "# 奖励函数\n",
    "R = {\n",
    "    \"s1-保持s1\": -1,\n",
    "    \"s1-前往s2\": 0,\n",
    "    \"s2-前往s1\": -1,\n",
    "    \"s2-前往s3\": -2,\n",
    "    \"s3-前往s4\": -2,\n",
    "    \"s3-前往s5\": 0,\n",
    "    \"s4-前往s5\": 10,\n",
    "    \"s4-概率前往\": 1,\n",
    "}\n",
    "gamma = 0.5  # 折扣因子\n",
    "MDP = (S, A, P, R, gamma)\n",
    "\n",
    "# 策略1,随机策略\n",
    "Pi_1 = {\n",
    "    \"s1-保持s1\": 0.5,\n",
    "    \"s1-前往s2\": 0.5,\n",
    "    \"s2-前往s1\": 0.5,\n",
    "    \"s2-前往s3\": 0.5,\n",
    "    \"s3-前往s4\": 0.5,\n",
    "    \"s3-前往s5\": 0.5,\n",
    "    \"s4-前往s5\": 0.5,\n",
    "    \"s4-概率前往\": 0.5,\n",
    "}\n",
    "# 策略2\n",
    "Pi_2 = {\n",
    "    \"s1-保持s1\": 0.6,\n",
    "    \"s1-前往s2\": 0.4,\n",
    "    \"s2-前往s1\": 0.3,\n",
    "    \"s2-前往s3\": 0.7,\n",
    "    \"s3-前往s4\": 0.5,\n",
    "    \"s3-前往s5\": 0.5,\n",
    "    \"s4-前往s5\": 0.1,\n",
    "    \"s4-概率前往\": 0.9,\n",
    "}\n",
    "\n",
    "\n",
    "# 把输入的两个字符串通过“-”连接,便于使用上述定义的P、R变量\n",
    "def join(str1, str2):\n",
    "    return str1 + '-' + str2\n"
   ]
  },
  {
   "cell_type": "markdown",
   "id": "0e875cd8",
   "metadata": {},
   "source": [
    "\n",
    "   + 第十三：给定MDP和策略π 转化为MRP\n",
    "    我们可以将策略的动作选择进行边缘化：\n",
    "     边缘化实际上是将二维的概率分布转化为以为的概率分布。\n",
    "        对于某一个状态，我们根据策略所有动作的概率进行加权，\n",
    "        得到的奖励和就可以认为是一个 MRP 在该状态下的奖励。\n",
    "        \n",
    "   ***动作边缘化后的MDP和MRP有相同的构成所以我们可以使用MRP计算。***\n"
   ]
  },
  {
   "cell_type": "code",
   "execution_count": 6,
   "id": "b973041b",
   "metadata": {},
   "outputs": [
    {
     "name": "stdout",
     "output_type": "stream",
     "text": [
      "MDP中每个状态价值分别为\n",
      " [[-1.22555411]\n",
      " [-1.67666232]\n",
      " [ 0.51890482]\n",
      " [ 6.0756193 ]\n",
      " [ 0.        ]]\n"
     ]
    }
   ],
   "source": [
    "gamma = 0.5\n",
    "# 转化后的MRP的状态转移矩阵\n",
    "P_from_mdp_to_mrp = [\n",
    "    [0.5, 0.5, 0.0, 0.0, 0.0],\n",
    "    [0.5, 0.0, 0.5, 0.0, 0.0],\n",
    "    [0.0, 0.0, 0.0, 0.5, 0.5],\n",
    "    [0.0, 0.1, 0.2, 0.2, 0.5],\n",
    "    [0.0, 0.0, 0.0, 0.0, 1.0],\n",
    "]\n",
    "P_from_mdp_to_mrp = np.array(P_from_mdp_to_mrp)\n",
    "R_from_mdp_to_mrp = [-0.5, -1.5, -1.0, 5.5, 0]\n",
    "\n",
    "V = compute(P_from_mdp_to_mrp, R_from_mdp_to_mrp, gamma, 5)\n",
    "print(\"MDP中每个状态价值分别为\\n\", V)"
   ]
  },
  {
   "cell_type": "markdown",
   "id": "97cf886f",
   "metadata": {},
   "source": [
    "   + 第十四：Monte-Carlo methods\n",
    "    运用蒙特卡洛方法时，我们通常使用重复随机抽样，\n",
    "    然后运用概率统计方法来从抽样结果中归纳出我们想求的目标的数值估计。\n",
    "    \n",
    "### 如何用蒙特卡洛方法来估计一个策略在一个马尔可夫决策过程中的状态价值函数？\n",
    "   1.一个状态的价值是它的期望回报，\n",
    "    那么一个很直观的想法就是用策略在 MDP 上采样很多条序列，\n",
    "    计算从这个状态出发的回报再求其期望就可以了。\n",
    "    \n",
    "   2.蒙特卡洛价值估计方法会在该状态每一次出现时计算它的回报。\n",
    "    还有一种选择是一条序列只计算一次回报，\n",
    "    也就是这条序列第一次出现该状态时计算后面的累积奖励，\n",
    "    而后面再次出现该状态时，该状态就被忽略了。\n",
    "    \n",
    "   3.使用计数器记录状态和总回报\n",
    "    使用总回报 / 状态s出现的次数 =  s的期望  \n"
   ]
  },
  {
   "cell_type": "code",
   "execution_count": 12,
   "id": "b366f30a",
   "metadata": {},
   "outputs": [],
   "source": [
    "#采样函数\n",
    "def sample(MDP, Pi, timestep_max, number):\n",
    "    ''' 采样函数,策略Pi,限制最长时间步timestep_max,总共采样序列数number '''\n",
    "    S, A, P, R, gamma = MDP\n",
    "    episodes = []\n",
    "    for _ in range(number):\n",
    "        episode = []\n",
    "        timestep = 0\n",
    "        s = S[np.random.randint(4)]\n",
    "        while s != \"s5\" and timestep <= timestep_max:\n",
    "            #终止条件为s5 或是大于了timestep_max\n",
    "            timestep += 1\n",
    "            rand, temp = np.random.rand(),0\n",
    "            #在采样中使用的变量\n",
    "            for a_opt in A:\n",
    "             #动作采样\n",
    "                temp += Pi.get(join(s, a_opt), 0)\n",
    "                if temp > rand:\n",
    "                    '''\n",
    "                    随机采样 动作有可能可以采集到也有可能采集不到。\n",
    "                    但是如果当前策略中该动作的概率大则有较大可能性被采集到。\n",
    "                    '''\n",
    "                    a = a_opt\n",
    "                    r = R.get(join(s, a), 0)\n",
    "                    break\n",
    "            rand, temp =  np.random.rand(),0   \n",
    "            for s_opt in S:\n",
    "                #状态采样\n",
    "                temp += Pi.get(join(s, a_opt), 0)\n",
    "                if temp > rand:\n",
    "                    s_next = s_opt\n",
    "                    break\n",
    "            episode.append((s, a, r, s_next))\n",
    "            s = s_next \n",
    "        episodes.append(episode)\n",
    "    return episodes"
   ]
  },
  {
   "cell_type": "code",
   "execution_count": 13,
   "id": "3e90952e",
   "metadata": {},
   "outputs": [
    {
     "name": "stdout",
     "output_type": "stream",
     "text": [
      "第一条序列\n",
      " [('s1', '前往s2', 0, 's2'), ('s2', '前往s3', -2, 's2'), ('s2', '前往s3', -2, 's2'), ('s2', '前往s1', -1, 's1'), ('s1', '前往s2', 0, 's1'), ('s1', '前往s2', 0, 's1'), ('s1', '前往s2', 0, 's2'), ('s2', '前往s3', -2, 's1'), ('s1', '前往s2', 0, 's2'), ('s2', '前往s3', -2, 's2'), ('s2', '前往s3', -2, 's1'), ('s1', '保持s1', -1, 's1'), ('s1', '保持s1', -1, 's2'), ('s2', '前往s1', -1, 's1'), ('s1', '前往s2', 0, 's2'), ('s2', '前往s3', -2, 's1'), ('s1', '前往s2', 0, 's2'), ('s2', '前往s3', -2, 's2'), ('s2', '前往s3', -2, 's1'), ('s1', '保持s1', -1, 's1'), ('s1', '前往s2', 0, 's2')]\n",
      "第二条序列\n",
      " [('s3', '前往s4', -2, 's1'), ('s1', '前往s2', 0, 's1'), ('s1', '前往s2', 0, 's1'), ('s1', '前往s2', 0, 's1'), ('s1', '前往s2', 0, 's2'), ('s2', '前往s1', -1, 's2'), ('s2', '前往s3', -2, 's2'), ('s2', '前往s1', -1, 's2'), ('s2', '前往s1', -1, 's2'), ('s2', '前往s3', -2, 's1'), ('s1', '前往s2', 0, 's1'), ('s1', '前往s2', 0, 's2'), ('s2', '前往s3', -2, 's2'), ('s2', '前往s3', -2, 's2'), ('s2', '前往s3', -2, 's2'), ('s2', '前往s1', -1, 's2'), ('s2', '前往s1', -1, 's1'), ('s1', '前往s2', 0, 's1'), ('s1', '前往s2', 0, 's1'), ('s1', '保持s1', -1, 's1'), ('s1', '前往s2', 0, 's2')]\n",
      "第五条序列\n",
      " [('s4', '前往s5', 10, 's1'), ('s1', '前往s2', 0, 's2'), ('s2', '前往s1', -1, 's1'), ('s1', '前往s2', 0, 's1'), ('s1', '前往s2', 0, 's1'), ('s1', '前往s2', 0, 's1'), ('s1', '前往s2', 0, 's1'), ('s1', '前往s2', 0, 's2'), ('s2', '前往s1', -1, 's1'), ('s1', '前往s2', 0, 's2'), ('s2', '前往s3', -2, 's1'), ('s1', '保持s1', -1, 's2'), ('s2', '前往s1', -1, 's2'), ('s2', '前往s1', -1, 's1'), ('s1', '保持s1', -1, 's2'), ('s2', '前往s1', -1, 's2'), ('s2', '前往s1', -1, 's1'), ('s1', '前往s2', 0, 's2'), ('s2', '前往s1', -1, 's1'), ('s1', '保持s1', -1, 's2'), ('s2', '前往s1', -1, 's2')]\n"
     ]
    }
   ],
   "source": [
    "episodes = sample(MDP, Pi_1, 20, 5)\n",
    "print('第一条序列\\n', episodes[0])\n",
    "print('第二条序列\\n', episodes[1])\n",
    "print('第五条序列\\n', episodes[4])"
   ]
  },
  {
   "cell_type": "code",
   "execution_count": 22,
   "id": "3b83b997",
   "metadata": {},
   "outputs": [],
   "source": [
    "#根据采样的序列计算状态价值\n",
    "def MC(episodes, V, N, gamma):\n",
    "    for episode in episodes:\n",
    "        G = 0\n",
    "        for i in range(len(episode)-1, -1, -1):\n",
    "        #序列计算从后往前计算\n",
    "            (s, a, r, s_next) = episode[i]\n",
    "            G = r + gamma * G\n",
    "            N[s] = N[s] + 1\n",
    "            V[s] = V[s] + (G - V[s]) / N[s]"
   ]
  },
  {
   "cell_type": "code",
   "execution_count": 25,
   "id": "12d509fd",
   "metadata": {},
   "outputs": [
    {
     "name": "stdout",
     "output_type": "stream",
     "text": [
      "使用蒙特卡洛方法计算MDP的状态价值为\n",
      " {'s1': -1.4977730410650685, 's2': -2.4984026466125626, 's3': -2.065646979370449, 's4': 4.945365749994411, 's5': 0}\n"
     ]
    }
   ],
   "source": [
    "timestep_max = 20\n",
    "episodes = sample(MDP, Pi_1, timestep_max, 1000)\n",
    "gamma = 0.5\n",
    "V = {\"s1\": 0, \"s2\": 0, \"s3\": 0, \"s4\": 0, \"s5\": 0}\n",
    "N = {\"s1\": 0, \"s2\": 0, \"s3\": 0, \"s4\": 0, \"s5\": 0}\n",
    "MC(episodes, V, N, gamma)\n",
    "print(\"使用蒙特卡洛方法计算MDP的状态价值为\\n\", V)"
   ]
  },
  {
   "cell_type": "markdown",
   "id": "440dcfd7",
   "metadata": {},
   "source": [
    "\n",
    "### 占用度量：\n",
    "不同策略会使智能体访问到不同概率分布的状态这个事实，这会影响到策略的价值函数。\n",
    "分析详见https://hrl.boyuai.com/chapter/1/%E9%A9%AC%E5%B0%94%E5%8F%AF%E5%A4%AB%E5%86%B3%E7%AD%96%E8%BF%87%E7%A8%8B\n",
    "    1.定义 MDP 的初始状态分布：\n",
    "    状态访问概率表示一个策略和 MDP 交互会访问到的状态的分布。\n",
    "    2.定义策略的占用度量\n",
    "    它表示动作状态对（s, a）被访问到的概率。\n",
    "    \n",
    "   + 定理1：给定一合法占用度量，可以生成唯一的策略。\n",
    "   + 定理2：如果策略相同，那么与同一个MDP交互得到的占用度量是相同的。\n"
   ]
  },
  {
   "cell_type": "code",
   "execution_count": 51,
   "id": "21daafdc",
   "metadata": {},
   "outputs": [],
   "source": [
    "#估计占用度量\n",
    "def occupancy(episodes, s, a, timestep_max, gamma):\n",
    "    rho = 0\n",
    "    total_times = np.zeros(timestep_max + 1)  # 记录每个时间步t各被经历过几次\n",
    "    occur_times = np.zeros(timestep_max + 1)  # 记录(s_t,a_t)=(s,a)的次数\n",
    "    for episode in episodes:\n",
    "        for i in range(len(episode)):\n",
    "            (s_opt, a_opt, r, s_next) = episode[i]\n",
    "            total_times[i] += 1\n",
    "            if s == s_opt and a == a_opt:\n",
    "                occur_times[i] += 1\n",
    "    for i in reversed(range(timestep_max)):\n",
    "        if total_times[i]:\n",
    "            rho += gamma**i * occur_times[i] / total_times[i]\n",
    "    return (1 - gamma) * rho\n",
    "            "
   ]
  },
  {
   "cell_type": "code",
   "execution_count": 52,
   "id": "663caa22",
   "metadata": {},
   "outputs": [
    {
     "name": "stdout",
     "output_type": "stream",
     "text": [
      "0.055 0.13101526373822503\n"
     ]
    }
   ],
   "source": [
    "gamma = 0.5\n",
    "timestep_max = 1000\n",
    "episodes_1 = sample(MDP, Pi_1, timestep_max, 1000)\n",
    "episodes_2 = sample(MDP, Pi_2, timestep_max, 1000)\n",
    "rho_1 = occupancy(episodes_1, \"s4\", \"概率前往\", timestep_max, gamma)\n",
    "rho_2 = occupancy(episodes_2, \"s4\", \"概率前往\", timestep_max, gamma)\n",
    "print(rho_1, rho_2)"
   ]
  },
  {
   "cell_type": "code",
   "execution_count": null,
   "id": "74d6e457",
   "metadata": {},
   "outputs": [],
   "source": []
  },
  {
   "cell_type": "code",
   "execution_count": null,
   "id": "430e007c",
   "metadata": {},
   "outputs": [],
   "source": []
  }
 ],
 "metadata": {
  "kernelspec": {
   "display_name": "Python 3 (ipykernel)",
   "language": "python",
   "name": "python3"
  },
  "language_info": {
   "codemirror_mode": {
    "name": "ipython",
    "version": 3
   },
   "file_extension": ".py",
   "mimetype": "text/x-python",
   "name": "python",
   "nbconvert_exporter": "python",
   "pygments_lexer": "ipython3",
   "version": "3.9.16"
  }
 },
 "nbformat": 4,
 "nbformat_minor": 5
}
