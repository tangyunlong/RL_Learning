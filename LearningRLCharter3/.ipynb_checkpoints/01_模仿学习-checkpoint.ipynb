{
 "cells": [
  {
   "cell_type": "markdown",
   "id": "11ba80bf",
   "metadata": {},
   "source": [
    "# 模仿学习\n",
    "## 强化学习具有奖励函数敏感性\n",
    "***在很多现实场景中，奖励函数并未给定，或者奖励信号极其稀疏，此时随机设计奖励函数将无法保证强化学习训练出来的策略满足实际需要***\n",
    "\n",
    "如何解决呢？\n",
    "\n",
    "**假设存在一个专家智能体，其策略可以看成最优策略，我们就可以直接模仿这个专家在环境中交互的状态动作数据来训练一个策略，并且不需要用到环境提供的奖励信号。**\n",
    "\n",
    "在模仿学习的框架下，专家能够提供一系列状态动作对，表示专家在环境下做出了的动作，而模仿者的任务则是利用这些专家数据进行训练，无须奖励信号就可以达到一个接近专家的策略。\n",
    "\n",
    "目前学术界模仿学习的方法基本上可以分为 3 类：\n",
    "\n",
    "行为克隆（behavior cloning，BC）\n",
    "逆强化学习（inverse RL）\n",
    "生成式对抗模仿学习（generative adversarial imitation learning，GAIL）\n",
    "\n",
    "## 行为克隆\n",
    "\n",
    "\n",
    "\n",
    "## 生成式对抗模仿\n",
    "\n",
    "\n"
   ]
  }
 ],
 "metadata": {
  "kernelspec": {
   "display_name": "Python 3 (ipykernel)",
   "language": "python",
   "name": "python3"
  },
  "language_info": {
   "codemirror_mode": {
    "name": "ipython",
    "version": 3
   },
   "file_extension": ".py",
   "mimetype": "text/x-python",
   "name": "python",
   "nbconvert_exporter": "python",
   "pygments_lexer": "ipython3",
   "version": "3.9.16"
  }
 },
 "nbformat": 4,
 "nbformat_minor": 5
}
