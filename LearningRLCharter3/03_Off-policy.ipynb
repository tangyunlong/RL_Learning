{
 "cells": [
  {
   "cell_type": "markdown",
   "id": "64031a38",
   "metadata": {},
   "source": [
    "# 离线强化学习\n",
    "\n",
    "## 强化学习智能体的环境依赖性\n",
    "\n",
    "离线强化学习（offline reinforcement learning）的目标是，在智能体不和环境交互的情况下，仅从已经收集好的确定的数据集中，通过强化学习算法得到比较好的策略。\n",
    "### 批量限制 Q-learning 算法\n",
    "### 保守 Q-learning 算法CQL"
   ]
  }
 ],
 "metadata": {
  "kernelspec": {
   "display_name": "Python 3 (ipykernel)",
   "language": "python",
   "name": "python3"
  },
  "language_info": {
   "codemirror_mode": {
    "name": "ipython",
    "version": 3
   },
   "file_extension": ".py",
   "mimetype": "text/x-python",
   "name": "python",
   "nbconvert_exporter": "python",
   "pygments_lexer": "ipython3",
   "version": "3.9.16"
  }
 },
 "nbformat": 4,
 "nbformat_minor": 5
}
