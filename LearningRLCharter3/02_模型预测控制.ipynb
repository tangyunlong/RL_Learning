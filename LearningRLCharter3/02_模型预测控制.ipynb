{
 "cells": [
  {
   "cell_type": "markdown",
   "id": "e6d6b448",
   "metadata": {},
   "source": [
    "# 模型预测控制（MPC）\n",
    "## 无模型（model-free）的方法\n",
    "没有建立一个环境模型来帮助智能体决策。\n",
    "## 基于模型（model-based）的方法\n",
    "通常用神经网络学习一个环境模型，然后利用该环境模型来帮助智能体训练和决策。\n",
    "模型预测控制（model predictive control，MPC）算法并**不构建一个显式的策略**，只根据环境模型来选择当前步要采取的动作。\n",
    "\n",
    "### 打靶法\n",
    "\n",
    "#### 随机打靶法\n",
    "\n",
    "#### 交叉熵方法\n",
    "\n",
    "### PETS 算法\n",
    "\n",
    "## 基于模型的策略优化\n",
    "\n",
    "MBPO 算法基于以下两个关键的观察：\n",
    "(1) 随着环境模型的推演步数变长，模型累积的复合误差会快速增加，使得环境模型得出的结果变得很不可靠；\n",
    "(2) 必须要权衡推演步数增加后模型增加的误差带来的负面作用与步数增加后使得训练的策略更优的正面作用，二者的权衡决定了推演的步数。\n",
    "\n",
    "###  MBPO 算法"
   ]
  }
 ],
 "metadata": {
  "kernelspec": {
   "display_name": "Python 3 (ipykernel)",
   "language": "python",
   "name": "python3"
  },
  "language_info": {
   "codemirror_mode": {
    "name": "ipython",
    "version": 3
   },
   "file_extension": ".py",
   "mimetype": "text/x-python",
   "name": "python",
   "nbconvert_exporter": "python",
   "pygments_lexer": "ipython3",
   "version": "3.9.16"
  }
 },
 "nbformat": 4,
 "nbformat_minor": 5
}
