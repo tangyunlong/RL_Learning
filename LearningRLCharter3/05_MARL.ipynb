{
 "cells": [
  {
   "cell_type": "markdown",
   "id": "fe3ae312",
   "metadata": {},
   "source": [
    "# 多智能体强化学习\n",
    "单智能体强化学习算法，其基本假设是动态环境是稳态的（stationary），即状态转移概率和奖励函数不变\n",
    "-如果环境中还有其他智能体做交互和学习，那么任务则上升为多智能体强化学习。\n",
    "\n",
    "+ 其难点主要体现在以下几点：\n",
    "\n",
    "+ 由于多个智能体在环境中进行实时动态交互，并且每个智能体在不断学习并更新自身策略，因此在每个智能体的视角下，环境是非稳态的（non-stationary），即对于一个智能体而言，即使在相同的状态下采取相同的动作，得到的状态转移和奖励信号的分布可能在不断改变；\n",
    "+ 多个智能体的训练可能是多目标的，不同智能体需要最大化自己的利益；\n",
    "+ 训练评估的复杂度会增加，可能需要大规模分布式训练来提高效率。\n",
    "\n",
    "## 问题建模\n",
    "\n",
    "##"
   ]
  },
  {
   "cell_type": "markdown",
   "id": "7ab9e78a",
   "metadata": {},
   "source": []
  }
 ],
 "metadata": {
  "kernelspec": {
   "display_name": "Python 3 (ipykernel)",
   "language": "python",
   "name": "python3"
  },
  "language_info": {
   "codemirror_mode": {
    "name": "ipython",
    "version": 3
   },
   "file_extension": ".py",
   "mimetype": "text/x-python",
   "name": "python",
   "nbconvert_exporter": "python",
   "pygments_lexer": "ipython3",
   "version": "3.9.16"
  }
 },
 "nbformat": 4,
 "nbformat_minor": 5
}
