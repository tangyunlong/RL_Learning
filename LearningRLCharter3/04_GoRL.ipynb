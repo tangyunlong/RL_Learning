{
 "cells": [
  {
   "cell_type": "markdown",
   "id": "b5481744",
   "metadata": {},
   "source": [
    "# 目标导向的强化学习\n",
    "\n",
    "## 对于训练完的算法，在使用时它们都只能完成一个特定的任务。\n",
    "\n",
    "**目标导向的强化学习（goal-oriented reinforcement learning，GoRL）以及该类别下的一种经典算法 HER。GoRL 可以学习一个策略，使其可以在不同的目标（goal）作为条件下奏效，以此来解决较为复杂的决策任务。**\n",
    "\n",
    "### 问题定义\n",
    "\n",
    "### HER 算法\n"
   ]
  }
 ],
 "metadata": {
  "kernelspec": {
   "display_name": "Python 3 (ipykernel)",
   "language": "python",
   "name": "python3"
  },
  "language_info": {
   "codemirror_mode": {
    "name": "ipython",
    "version": 3
   },
   "file_extension": ".py",
   "mimetype": "text/x-python",
   "name": "python",
   "nbconvert_exporter": "python",
   "pygments_lexer": "ipython3",
   "version": "3.9.16"
  }
 },
 "nbformat": 4,
 "nbformat_minor": 5
}
