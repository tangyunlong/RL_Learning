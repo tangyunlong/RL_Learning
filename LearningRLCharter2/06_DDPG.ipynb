{
 "cells": [
  {
   "cell_type": "markdown",
   "id": "bf3d3764",
   "metadata": {},
   "source": [
    "## DDPG(deep deterministic policy gradient)\n",
    "\n",
    "DDPG构造一个确定性策略，用梯度上升的方法来最大化值。DDPG 也属于一种 Actor-Critic 算法。用于计算连续动作空间问题且使用离线策略求解。\n",
    "\n",
    "### 重要的\n",
    "#### 确定性\n",
    "之前我们学习的策略是随机性的，可以表示为\n",
    "$a~π(·|s)$\n",
    "而如果策略是确定性的，则可以记为\n",
    "$a=μ_θ(s)$\n",
    "与策略梯度定理类似**确定性策略梯度定理**\n",
    "![确定性策略梯度定理](./pic/DDPG.png)\n",
    "\n"
   ]
  }
 ],
 "metadata": {
  "kernelspec": {
   "display_name": "Python 3 (ipykernel)",
   "language": "python",
   "name": "python3"
  },
  "language_info": {
   "codemirror_mode": {
    "name": "ipython",
    "version": 3
   },
   "file_extension": ".py",
   "mimetype": "text/x-python",
   "name": "python",
   "nbconvert_exporter": "python",
   "pygments_lexer": "ipython3",
   "version": "3.9.16"
  }
 },
 "nbformat": 4,
 "nbformat_minor": 5
}
